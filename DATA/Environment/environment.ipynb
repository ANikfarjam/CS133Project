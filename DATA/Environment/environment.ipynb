{
 "cells": [
  {
   "cell_type": "code",
   "execution_count": 20,
   "metadata": {},
   "outputs": [],
   "source": [
    "import pandas as pd\n",
    "import seaborn as sns\n",
    "from matplotlib import pyplot as plt\n",
    "# Author: Shangchen Hsieh\n",
    "\n",
    "extreme_temperature_by_state = pd.read_csv(\"./temperature_by_state.csv\", sep=\",\")\n",
    "extreme_temperature_by_state.sort_values(by='State', inplace=True)\n",
    "extreme_temperature_by_state\n",
    "extreme_temperature_by_state.to_csv('extreme_temp.csv')"
   ]
  },
  {
   "cell_type": "code",
   "execution_count": 21,
   "metadata": {},
   "outputs": [
    {
     "name": "stdout",
     "output_type": "stream",
     "text": [
      "<class 'pandas.core.frame.DataFrame'>\n",
      "RangeIndex: 16 entries, 0 to 15\n",
      "Data columns (total 5 columns):\n",
      " #   Column                     Non-Null Count  Dtype  \n",
      "---  ------                     --------------  -----  \n",
      " 0   states                     16 non-null     object \n",
      " 1   number of rainy days       16 non-null     int64  \n",
      " 2   precipitation_millimeters  16 non-null     int64  \n",
      " 3   ave_temp_2023(in Celsius)  16 non-null     float64\n",
      " 4   avg_sunshine_hour2023      16 non-null     int64  \n",
      "dtypes: float64(1), int64(3), object(1)\n",
      "memory usage: 768.0+ bytes\n"
     ]
    }
   ],
   "source": [
    "states = [\n",
    "    \"Baden-Württemberg\",\n",
    "    \"Bavaria\",\n",
    "    \"Berlin\",\n",
    "    \"Brandenburg\",\n",
    "    \"Bremen\",\n",
    "    \"Hamburg\",\n",
    "    \"Hesse\",\n",
    "    \"Lower Saxony\",\n",
    "    \"Mecklenburg-Vorpomern\",\n",
    "    \"North Rhine-Westphalia\",\n",
    "    \"Rhineland-Palatinate\",\n",
    "    \"Saarland\",\n",
    "    \"Saxony\",\n",
    "    \"Saxony-Anhalt\",\n",
    "    \"Schleswig-Holstein\",\n",
    "    \"Thuringia\"\n",
    "]\n",
    "precipitation_days = [\n",
    "    110, 161, 111, 112, 179, 128, 128, 125, 130, 124, 129, 130, 96, 112, 106, 105\n",
    "]\n",
    "\n",
    "precipitation_inches = [\n",
    "    31.3, 70.9, 25.0, 26.2, 78.9, 34.1, 30.5, 33.4, 36.6, 30.3, 38.1, 36.6, 19.0, 23.0, 22.5, 18.9\n",
    "]\n",
    "\n",
    "precipitation_millimeters = [\n",
    "    796, 1801, 636, 665, 2004, 865, 774, 849, 930, 769, 967, 930, 483, 585, 571, 473\n",
    "]\n",
    "sunshine_hour_2023= [\n",
    "    1855, 1855, 1830, 1745, 1670, 1710, 1720, 1655, 1810, 1645, 1800, 1835, 1735, 1730, 1735, 1685\n",
    "]\n",
    "avg_temp_2023 = [\n",
    "    11, 10.3, 11.3, 10.8, 11.1, 11, 10.7, 10.8, 10.2, 11.2, 11.1, 11.5, 10.1, 10.8, 10.3, 10.1\n",
    "]\n",
    "\n",
    "weather = pd.DataFrame({'states': states,\n",
    "                              \"number of rainy days\": precipitation_days, \n",
    "                              \"precipitation_millimeters\": precipitation_millimeters,\n",
    "                              \"ave_temp_2023(in Celsius)\": avg_temp_2023, \n",
    "                              \"avg_sunshine_hour2023\": sunshine_hour_2023})\n",
    "weather.sort_values(by='states', inplace=True)\n",
    "weather\n",
    "weather.info()\n",
    "\n",
    "weather.to_csv('weather.csv')"
   ]
  },
  {
   "cell_type": "markdown",
   "metadata": {},
   "source": [
    "Questions Sean: \n",
    "Q1 (environment): In Germany, which state has the most/least rain?\n",
    "Why do we care? \n",
    "Rainfall often indicates the water supply throughout a year, and it can be used as an indicator of droughts \n",
    "What insight does it give? \n",
    " Rainfall data often informs things like environmental reservation, water resources, and drought risk management. \n",
    "Q2 (environment): In Germany, which state hasn’t had extreme high/low temperatures for the longest time? \n",
    "Why do we care? \n",
    "Extreme weathers are associated with safety because, in the past, there were records of people dying from heatwaves. Additionally, extremely low temperatures would make traveling harder and potentially cause accidents. \n",
    "What insight does it give? \n",
    "This can be used as an indicator of how stable the environment of the state is. The longer an extreme temperature hasn’t happened, the more stable the environment is. \n",
    "Q3 (environment): In Germany, which state has the most/least sunshine? \n",
    "Why do we care? \n",
    "This data set can be used to determine a state’s recreational values and solar energy potential \n",
    "What insight does it give? \n",
    "It can lead to an examination of the relationship between sunshine hours/number of rainy days, and this can be important for tourists and outdoor enthusiasts later in the ML model. \n",
    "Q4 (public transportation): In Germany, which state has the highest/lowest easy access to public transportation? \n",
    "Why do we care? \n",
    "How easy is it to access public transportation is important for immigration and tourism purposes because people who arrive in the States usually do not have a vehicle to travel freely. Or even people who have medical conditions and people who can’t drive.\n",
    "What insight does it give? \n",
    "This can be an indication of how well the state was developed/designed.\n",
    "Q5 (public transportation): In Germany, which state has the highest/lowest short-distance public transportation?\n",
    "Why do we care? \n",
    "Same as Q4.a\n",
    "What insight does it give?\n",
    "Combining with other data, we can tell which state is prosperous/underdeveloped \n"
   ]
  }
 ],
 "metadata": {
  "kernelspec": {
   "display_name": "Python 3",
   "language": "python",
   "name": "python3"
  },
  "language_info": {
   "codemirror_mode": {
    "name": "ipython",
    "version": 3
   },
   "file_extension": ".py",
   "mimetype": "text/x-python",
   "name": "python",
   "nbconvert_exporter": "python",
   "pygments_lexer": "ipython3",
   "version": "3.10.12"
  }
 },
 "nbformat": 4,
 "nbformat_minor": 2
}
