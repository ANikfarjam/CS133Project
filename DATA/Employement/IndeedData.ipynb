{
 "cells": [
  {
   "cell_type": "markdown",
   "metadata": {},
   "source": [
    "Indeed is offering an API that allows searching jobs and posting jobs\n",
    "\n"
   ]
  },
  {
   "cell_type": "code",
   "execution_count": 8,
   "metadata": {},
   "outputs": [
    {
     "name": "stdout",
     "output_type": "stream",
     "text": [
      "{'count': 15, 'hits': [{'company_name': 'Confidential', 'formatted_relative_time': 'Today', 'id': '4b0cd351380321a7', 'link': '/job/4b0cd351380321a7?locality=us', 'locality': 'us', 'location': 'Chicago, IL', 'pub_date_ts_milli': 1712638800000, 'salary': {'max': 120000, 'min': 120000, 'type': 'yearly'}, 'title': 'Regional Property Manager'}, {'company_name': 'OGeez! Brands', 'formatted_relative_time': 'Today', 'id': '625f98f3412841a4', 'link': '/job/625f98f3412841a4?locality=us', 'locality': 'us', 'location': 'Elk Grove Village, IL', 'pub_date_ts_milli': 1712638800000, 'salary': {'max': 100000, 'min': 70000, 'type': 'yearly'}, 'title': 'Production and Plant Manager'}, {'company_name': 'The Building Group', 'formatted_relative_time': 'Today', 'id': 'f3d95472644f64c7', 'link': '/job/f3d95472644f64c7?locality=us', 'locality': 'us', 'location': 'Chicago, IL 60657', 'pub_date_ts_milli': 1712638800000, 'salary': {'max': 100000, 'min': 80000, 'type': 'yearly'}, 'title': 'Luxury Lake Shore Drive Highrise, Onsite Community Association Manager'}, {'company_name': 'Confidential', 'formatted_relative_time': '1 day ago', 'id': '6c30c7d3791cfb5e', 'link': '/job/6c30c7d3791cfb5e?locality=us', 'locality': 'us', 'location': 'Oak Brook, IL', 'pub_date_ts_milli': 1712552400000, 'salary': {'max': 72000, 'min': 65000, 'type': 'yearly'}, 'title': 'Warehouse Manager'}, {'company_name': 'HVAC Recruitment', 'formatted_relative_time': 'Today', 'id': 'f1989c20b8997c83', 'link': '/job/f1989c20b8997c83?locality=us', 'locality': 'us', 'location': 'Chicago, IL', 'pub_date_ts_milli': 1712638800000, 'salary': {'max': 155000, 'min': 150000, 'type': 'yearly'}, 'title': 'Account Manager'}, {'company_name': 'Top Tier Resources', 'formatted_relative_time': 'Today', 'id': '70d9eebc5f61d915', 'link': '/job/70d9eebc5f61d915?locality=us', 'locality': 'us', 'location': 'Chicago, IL 60604', 'pub_date_ts_milli': 1712638800000, 'salary': {'max': 27.5, 'min': 24.2, 'type': 'hourly'}, 'title': 'Administrative Property Manager'}, {'company_name': 'AV Franklin', 'formatted_relative_time': 'Today', 'id': '68f2d11571e2757f', 'link': '/job/68f2d11571e2757f?locality=us', 'locality': 'us', 'location': 'Chicago, IL 60639', 'pub_date_ts_milli': 1712638800000, 'salary': {'max': 40, 'min': 30, 'type': 'hourly'}, 'title': 'Bookkeeper/Office Manager (full or part-time)'}, {'company_name': 'HomeTown Pharmacy Inc', 'formatted_relative_time': 'Today', 'id': '0181cced4fb45e5d', 'link': '/job/0181cced4fb45e5d?locality=us', 'locality': 'us', 'location': 'New Buffalo, MI 49117', 'pub_date_ts_milli': 1712638800000, 'salary': {}, 'title': 'Licensed Pharmacy Manager'}, {'company_name': 'CryoPure Spa', 'formatted_relative_time': 'Today', 'id': 'dc9830f8f19fc6e8', 'link': '/job/dc9830f8f19fc6e8?locality=us', 'locality': 'us', 'location': 'Highland Park, IL 60035', 'pub_date_ts_milli': 1712638800000, 'salary': {'max': 55215.04, 'min': 45848.2, 'type': 'yearly'}, 'title': 'Wellness Business and Operations Manager'}, {'company_name': 'Signs Plus', 'formatted_relative_time': '1 day ago', 'id': '0d5b57db4eeda4d4', 'link': '/job/0d5b57db4eeda4d4?locality=us', 'locality': 'us', 'location': 'Des Plaines, IL 60016', 'pub_date_ts_milli': 1712552400000, 'salary': {}, 'title': 'Sign Shop Assistant Production Manager'}, {'company_name': 'Gravure Ink', 'formatted_relative_time': 'Today', 'id': '78849208ae5db3d4', 'link': '/job/78849208ae5db3d4?locality=us', 'locality': 'us', 'location': 'Bensenville, IL', 'pub_date_ts_milli': 1712638800000, 'salary': {}, 'title': 'Operations Manager'}, {'company_name': 'Hoerbiger', 'formatted_relative_time': '1 day ago', 'id': 'ff4e2eb04c38bcce', 'link': '/job/ff4e2eb04c38bcce?locality=us', 'locality': 'us', 'location': 'Waukegan, IL', 'pub_date_ts_milli': 1712552400000, 'salary': {}, 'title': 'Category Manager - Manufacturing'}, {'company_name': 'ENCORE SENIOR LIVING', 'formatted_relative_time': '1 day ago', 'id': '8d69116dc05f7816', 'link': '/job/8d69116dc05f7816?locality=us', 'locality': 'us', 'location': 'Chicago, IL 60606', 'pub_date_ts_milli': 1712552400000, 'salary': {'max': -1, 'min': 80000, 'type': 'yearly'}, 'title': 'Corporate Accounts Payable Manager'}, {'company_name': 'Confidential', 'formatted_relative_time': '1 day ago', 'id': 'b66a0d347be50fc9', 'link': '/job/b66a0d347be50fc9?locality=us', 'locality': 'us', 'location': 'Chicago, IL', 'pub_date_ts_milli': 1712552400000, 'salary': {'max': -1, 'min': 110000, 'type': 'yearly'}, 'title': 'District Manager'}, {'company_name': 'Union Tank Car Company (UTLX)', 'formatted_relative_time': 'Today', 'id': '261f4c2684b4b700', 'link': '/job/261f4c2684b4b700?locality=us', 'locality': 'us', 'location': 'Illinois', 'pub_date_ts_milli': 1712638800000, 'salary': {'max': 120000, 'min': 80000, 'type': 'yearly'}, 'title': 'Regional Operations Manager'}], 'indeed_final_url': 'https://www.indeed.com/jobs?q=manager&l=chicago&fromage=3&radius=50', 'next_page_id': 2, 'suggest_locality': None}\n"
     ]
    }
   ],
   "source": [
    "import requests\n",
    "\n",
    "url = \"https://indeed12.p.rapidapi.com/jobs/search\"\n",
    "\n",
    "querystring = {\"query\":\"manager\",\"location\":\"chicago\",\"page_id\":\"1\",\"fromage\":\"3\",\"radius\":\"50\"}\n",
    "\n",
    "headers = {\n",
    "\t\"X-RapidAPI-Key\": \"5847527b5bmshe2f2f4e69370c30p1a3ec9jsn659fda58c155\",\n",
    "\t\"X-RapidAPI-Host\": \"indeed12.p.rapidapi.com\"\n",
    "}\n",
    "\n",
    "response = requests.get(url, headers=headers, params=querystring)\n",
    "\n",
    "print(response.json())"
   ]
  }
 ],
 "metadata": {
  "kernelspec": {
   "display_name": "Python 3",
   "language": "python",
   "name": "python3"
  },
  "language_info": {
   "codemirror_mode": {
    "name": "ipython",
    "version": 3
   },
   "file_extension": ".py",
   "mimetype": "text/x-python",
   "name": "python",
   "nbconvert_exporter": "python",
   "pygments_lexer": "ipython3",
   "version": "3.10.4"
  }
 },
 "nbformat": 4,
 "nbformat_minor": 2
}
