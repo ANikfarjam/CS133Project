{
 "cells": [
  {
   "cell_type": "markdown",
   "metadata": {},
   "source": [
    "data comes from: https://www.workwithdata.com/dataset?col=city%2Ccity_coordinates%2Ccountry%2Cdomain%2Ctotal_students%2Cuniversity&entity=universities&f=1&fcol0=country&fop0=%3D&fval0=Germany\n",
    "\n",
    "This is analysis of available universities in german cities"
   ]
  },
  {
   "cell_type": "code",
   "execution_count": 1,
   "metadata": {},
   "outputs": [
    {
     "data": {
      "text/html": [
       "<div>\n",
       "<style scoped>\n",
       "    .dataframe tbody tr th:only-of-type {\n",
       "        vertical-align: middle;\n",
       "    }\n",
       "\n",
       "    .dataframe tbody tr th {\n",
       "        vertical-align: top;\n",
       "    }\n",
       "\n",
       "    .dataframe thead th {\n",
       "        text-align: right;\n",
       "    }\n",
       "</style>\n",
       "<table border=\"1\" class=\"dataframe\">\n",
       "  <thead>\n",
       "    <tr style=\"text-align: right;\">\n",
       "      <th></th>\n",
       "      <th>City</th>\n",
       "      <th>City coordinates</th>\n",
       "      <th>Country</th>\n",
       "      <th>Domain</th>\n",
       "      <th>Total students</th>\n",
       "      <th>University</th>\n",
       "    </tr>\n",
       "  </thead>\n",
       "  <tbody>\n",
       "    <tr>\n",
       "      <th>0</th>\n",
       "      <td>Bielefeld</td>\n",
       "      <td>[52.0333330, 8.5333330]</td>\n",
       "      <td>Germany</td>\n",
       "      <td>uni-bielefeld.de</td>\n",
       "      <td>25896.0</td>\n",
       "      <td>Bielefeld University</td>\n",
       "    </tr>\n",
       "    <tr>\n",
       "      <th>1</th>\n",
       "      <td>Brandenburg</td>\n",
       "      <td>[52.4166670, 12.5500000]</td>\n",
       "      <td>Germany</td>\n",
       "      <td>b-tu.de</td>\n",
       "      <td>NaN</td>\n",
       "      <td>Brandenburg University of Technology</td>\n",
       "    </tr>\n",
       "    <tr>\n",
       "      <th>2</th>\n",
       "      <td>Oldenburg</td>\n",
       "      <td>[53.1666670, 8.2000000]</td>\n",
       "      <td>Germany</td>\n",
       "      <td>uol.de</td>\n",
       "      <td>NaN</td>\n",
       "      <td>Carl von Ossietzky University of Oldenburg</td>\n",
       "    </tr>\n",
       "    <tr>\n",
       "      <th>3</th>\n",
       "      <td>Chemnitz</td>\n",
       "      <td>[50.8333330, 12.9166670]</td>\n",
       "      <td>Germany</td>\n",
       "      <td>tu-chemnitz.de</td>\n",
       "      <td>NaN</td>\n",
       "      <td>Chemnitz University of Technology</td>\n",
       "    </tr>\n",
       "    <tr>\n",
       "      <th>4</th>\n",
       "      <td>Düsseldorf</td>\n",
       "      <td>[51.2166670, 6.7666670]</td>\n",
       "      <td>Germany</td>\n",
       "      <td>kunstakademie-duesseldorf.de</td>\n",
       "      <td>NaN</td>\n",
       "      <td>Düsseldorf Art Academy</td>\n",
       "    </tr>\n",
       "  </tbody>\n",
       "</table>\n",
       "</div>"
      ],
      "text/plain": [
       "          City          City coordinates  Country  \\\n",
       "0    Bielefeld   [52.0333330, 8.5333330]  Germany   \n",
       "1  Brandenburg  [52.4166670, 12.5500000]  Germany   \n",
       "2    Oldenburg   [53.1666670, 8.2000000]  Germany   \n",
       "3     Chemnitz  [50.8333330, 12.9166670]  Germany   \n",
       "4   Düsseldorf   [51.2166670, 6.7666670]  Germany   \n",
       "\n",
       "                         Domain  Total students  \\\n",
       "0              uni-bielefeld.de         25896.0   \n",
       "1                       b-tu.de             NaN   \n",
       "2                        uol.de             NaN   \n",
       "3                tu-chemnitz.de             NaN   \n",
       "4  kunstakademie-duesseldorf.de             NaN   \n",
       "\n",
       "                                   University  \n",
       "0                        Bielefeld University  \n",
       "1        Brandenburg University of Technology  \n",
       "2  Carl von Ossietzky University of Oldenburg  \n",
       "3           Chemnitz University of Technology  \n",
       "4                      Düsseldorf Art Academy  "
      ]
     },
     "execution_count": 1,
     "metadata": {},
     "output_type": "execute_result"
    }
   ],
   "source": [
    "import pandas as pd\n",
    "uni = pd.read_csv(\"Universities In Germany.csv\")\n",
    "uni.head()"
   ]
  },
  {
   "cell_type": "code",
   "execution_count": 2,
   "metadata": {},
   "outputs": [
    {
     "name": "stdout",
     "output_type": "stream",
     "text": [
      "<class 'pandas.core.frame.DataFrame'>\n",
      "RangeIndex: 72 entries, 0 to 71\n",
      "Data columns (total 6 columns):\n",
      " #   Column            Non-Null Count  Dtype  \n",
      "---  ------            --------------  -----  \n",
      " 0   City              59 non-null     object \n",
      " 1   City coordinates  59 non-null     object \n",
      " 2   Country           72 non-null     object \n",
      " 3   Domain            71 non-null     object \n",
      " 4   Total students    40 non-null     float64\n",
      " 5   University        72 non-null     object \n",
      "dtypes: float64(1), object(5)\n",
      "memory usage: 3.5+ KB\n"
     ]
    }
   ],
   "source": [
    "uni.info()"
   ]
  },
  {
   "cell_type": "markdown",
   "metadata": {},
   "source": [
    "it seams like when ever the name of the city or coordinates are repeated it hase bean left empty space insted \n",
    "not sure why out of 72 row only 40 has number of student perhaps not provided"
   ]
  },
  {
   "cell_type": "code",
   "execution_count": 3,
   "metadata": {},
   "outputs": [
    {
     "name": "stderr",
     "output_type": "stream",
     "text": [
      "/var/folders/pd/wynthhk510v_lw3l_4q234gh0000gn/T/ipykernel_97766/3621693225.py:1: FutureWarning: Series.fillna with 'method' is deprecated and will raise in a future version. Use obj.ffill() or obj.bfill() instead.\n",
      "  uni['City'] = uni['City'].fillna(method=\"ffill\")#fills the name of the empty cities with the previous non empty one\n"
     ]
    },
    {
     "data": {
      "text/html": [
       "<div>\n",
       "<style scoped>\n",
       "    .dataframe tbody tr th:only-of-type {\n",
       "        vertical-align: middle;\n",
       "    }\n",
       "\n",
       "    .dataframe tbody tr th {\n",
       "        vertical-align: top;\n",
       "    }\n",
       "\n",
       "    .dataframe thead th {\n",
       "        text-align: right;\n",
       "    }\n",
       "</style>\n",
       "<table border=\"1\" class=\"dataframe\">\n",
       "  <thead>\n",
       "    <tr style=\"text-align: right;\">\n",
       "      <th></th>\n",
       "      <th>City</th>\n",
       "      <th>City coordinates</th>\n",
       "      <th>Country</th>\n",
       "      <th>Domain</th>\n",
       "      <th>Total students</th>\n",
       "      <th>University</th>\n",
       "    </tr>\n",
       "  </thead>\n",
       "  <tbody>\n",
       "    <tr>\n",
       "      <th>0</th>\n",
       "      <td>Bielefeld</td>\n",
       "      <td>[52.0333330, 8.5333330]</td>\n",
       "      <td>Germany</td>\n",
       "      <td>uni-bielefeld.de</td>\n",
       "      <td>25896.0</td>\n",
       "      <td>Bielefeld University</td>\n",
       "    </tr>\n",
       "    <tr>\n",
       "      <th>1</th>\n",
       "      <td>Brandenburg</td>\n",
       "      <td>[52.4166670, 12.5500000]</td>\n",
       "      <td>Germany</td>\n",
       "      <td>b-tu.de</td>\n",
       "      <td>NaN</td>\n",
       "      <td>Brandenburg University of Technology</td>\n",
       "    </tr>\n",
       "    <tr>\n",
       "      <th>2</th>\n",
       "      <td>Oldenburg</td>\n",
       "      <td>[53.1666670, 8.2000000]</td>\n",
       "      <td>Germany</td>\n",
       "      <td>uol.de</td>\n",
       "      <td>NaN</td>\n",
       "      <td>Carl von Ossietzky University of Oldenburg</td>\n",
       "    </tr>\n",
       "    <tr>\n",
       "      <th>3</th>\n",
       "      <td>Chemnitz</td>\n",
       "      <td>[50.8333330, 12.9166670]</td>\n",
       "      <td>Germany</td>\n",
       "      <td>tu-chemnitz.de</td>\n",
       "      <td>NaN</td>\n",
       "      <td>Chemnitz University of Technology</td>\n",
       "    </tr>\n",
       "    <tr>\n",
       "      <th>4</th>\n",
       "      <td>Düsseldorf</td>\n",
       "      <td>[51.2166670, 6.7666670]</td>\n",
       "      <td>Germany</td>\n",
       "      <td>kunstakademie-duesseldorf.de</td>\n",
       "      <td>NaN</td>\n",
       "      <td>Düsseldorf Art Academy</td>\n",
       "    </tr>\n",
       "  </tbody>\n",
       "</table>\n",
       "</div>"
      ],
      "text/plain": [
       "          City          City coordinates  Country  \\\n",
       "0    Bielefeld   [52.0333330, 8.5333330]  Germany   \n",
       "1  Brandenburg  [52.4166670, 12.5500000]  Germany   \n",
       "2    Oldenburg   [53.1666670, 8.2000000]  Germany   \n",
       "3     Chemnitz  [50.8333330, 12.9166670]  Germany   \n",
       "4   Düsseldorf   [51.2166670, 6.7666670]  Germany   \n",
       "\n",
       "                         Domain  Total students  \\\n",
       "0              uni-bielefeld.de         25896.0   \n",
       "1                       b-tu.de             NaN   \n",
       "2                        uol.de             NaN   \n",
       "3                tu-chemnitz.de             NaN   \n",
       "4  kunstakademie-duesseldorf.de             NaN   \n",
       "\n",
       "                                   University  \n",
       "0                        Bielefeld University  \n",
       "1        Brandenburg University of Technology  \n",
       "2  Carl von Ossietzky University of Oldenburg  \n",
       "3           Chemnitz University of Technology  \n",
       "4                      Düsseldorf Art Academy  "
      ]
     },
     "execution_count": 3,
     "metadata": {},
     "output_type": "execute_result"
    }
   ],
   "source": [
    "uni['City'] = uni['City'].fillna(method=\"ffill\")#fills the name of the empty cities with the previous non empty one\n",
    "uni.head()\n"
   ]
  },
  {
   "cell_type": "markdown",
   "metadata": {},
   "source": [
    "to fill out missing values in Total students I am using method='linear' that uses linear interpolation to fill out the missing values.\n",
    "\n",
    "Linear interpolation is a mathematical method that uses linear polynomials to create new data points between known data points."
   ]
  },
  {
   "cell_type": "code",
   "execution_count": 4,
   "metadata": {},
   "outputs": [
    {
     "data": {
      "text/html": [
       "<div>\n",
       "<style scoped>\n",
       "    .dataframe tbody tr th:only-of-type {\n",
       "        vertical-align: middle;\n",
       "    }\n",
       "\n",
       "    .dataframe tbody tr th {\n",
       "        vertical-align: top;\n",
       "    }\n",
       "\n",
       "    .dataframe thead th {\n",
       "        text-align: right;\n",
       "    }\n",
       "</style>\n",
       "<table border=\"1\" class=\"dataframe\">\n",
       "  <thead>\n",
       "    <tr style=\"text-align: right;\">\n",
       "      <th></th>\n",
       "      <th>city</th>\n",
       "      <th>Total students</th>\n",
       "      <th>University</th>\n",
       "    </tr>\n",
       "  </thead>\n",
       "  <tbody>\n",
       "    <tr>\n",
       "      <th>0</th>\n",
       "      <td>Bielefeld</td>\n",
       "      <td>25896.0</td>\n",
       "      <td>Bielefeld University</td>\n",
       "    </tr>\n",
       "    <tr>\n",
       "      <th>1</th>\n",
       "      <td>Brandenburg</td>\n",
       "      <td>24360.6</td>\n",
       "      <td>Brandenburg University of Technology</td>\n",
       "    </tr>\n",
       "    <tr>\n",
       "      <th>2</th>\n",
       "      <td>Oldenburg</td>\n",
       "      <td>22825.2</td>\n",
       "      <td>Carl von Ossietzky University of Oldenburg</td>\n",
       "    </tr>\n",
       "    <tr>\n",
       "      <th>3</th>\n",
       "      <td>Chemnitz</td>\n",
       "      <td>21289.8</td>\n",
       "      <td>Chemnitz University of Technology</td>\n",
       "    </tr>\n",
       "    <tr>\n",
       "      <th>4</th>\n",
       "      <td>Düsseldorf</td>\n",
       "      <td>19754.4</td>\n",
       "      <td>Düsseldorf Art Academy</td>\n",
       "    </tr>\n",
       "  </tbody>\n",
       "</table>\n",
       "</div>"
      ],
      "text/plain": [
       "          city  Total students                                  University\n",
       "0    Bielefeld         25896.0                        Bielefeld University\n",
       "1  Brandenburg         24360.6        Brandenburg University of Technology\n",
       "2    Oldenburg         22825.2  Carl von Ossietzky University of Oldenburg\n",
       "3     Chemnitz         21289.8           Chemnitz University of Technology\n",
       "4   Düsseldorf         19754.4                      Düsseldorf Art Academy"
      ]
     },
     "execution_count": 4,
     "metadata": {},
     "output_type": "execute_result"
    }
   ],
   "source": [
    "test = uni.copy()\n",
    "test['Total students'] = test['Total students'].interpolate(method='linear')\n",
    "test.rename(columns={'City':'city'},inplace=True)\n",
    "test.drop(columns=['City coordinates', 'Country', 'Domain'],inplace=True)\n",
    "test.head()"
   ]
  },
  {
   "cell_type": "code",
   "execution_count": 5,
   "metadata": {},
   "outputs": [],
   "source": [
    "test.to_csv('unvercities.csv',index=False)"
   ]
  }
 ],
 "metadata": {
  "kernelspec": {
   "display_name": "Python 3",
   "language": "python",
   "name": "python3"
  },
  "language_info": {
   "codemirror_mode": {
    "name": "ipython",
    "version": 3
   },
   "file_extension": ".py",
   "mimetype": "text/x-python",
   "name": "python",
   "nbconvert_exporter": "python",
   "pygments_lexer": "ipython3",
   "version": "3.10.4"
  }
 },
 "nbformat": 4,
 "nbformat_minor": 2
}
