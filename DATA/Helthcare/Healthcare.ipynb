{
 "cells": [
  {
   "cell_type": "markdown",
   "metadata": {},
   "source": [
    "Author: Ashkan Nikfarjam\n",
    "basic info from \"https://en.wikipedia.org/wiki/Healthcare_in_Germany\"\n",
    "Germans are offered three mandatory health benefits, which are co-financed by employer and employee: health insurance, accident insurance, and long-term care insurance\n",
    "list of hospitals in germany: \"https://en.wikipedia.org/wiki/List_of_hospitals_in_Germany\""
   ]
  },
  {
   "cell_type": "code",
   "execution_count": 26,
   "metadata": {},
   "outputs": [],
   "source": [
    "from bs4 import BeautifulSoup\n",
    "import requests\n",
    "url = \"https://en.wikipedia.org/wiki/List_of_hospitals_in_Germany\"\n",
    "response = requests.get(url)\n",
    "if response.status_code == 200:\n",
    "    health_soup = BeautifulSoup(response.content, 'html.parser')\n",
    "else:\n",
    "    print('couldnt reach', url)"
   ]
  },
  {
   "cell_type": "markdown",
   "metadata": {},
   "source": [
    "now we have everything lets write everything in and html file and take a peack"
   ]
  },
  {
   "cell_type": "code",
   "execution_count": 27,
   "metadata": {},
   "outputs": [],
   "source": [
    "with open(\"hospitals.html\", 'w') as file:\n",
    "    file.write(health_soup.prettify())"
   ]
  },
  {
   "cell_type": "code",
   "execution_count": 28,
   "metadata": {},
   "outputs": [],
   "source": [
    "rows = health_soup.find_all('tr')\n",
    "#now i want to exract all the hospilat names, city and number of beds\n",
    "# Extract data from each row\n",
    "hospital_lst = []\n",
    "city_lst = []\n",
    "beds_lst = []\n",
    "for row in rows:\n",
    "    # Find all table data elements in the row\n",
    "    cells = row.find_all('td')\n",
    "    \n",
    "    # Extract hospital name, city, number of beds\n",
    "    if len(cells) >= 3:  # Ensure the row has enough data cells\n",
    "        hospital = cells[0].get_text(strip=True)\n",
    "        city = cells[1].get_text(strip=True)\n",
    "        beds = cells[2].get_text(strip=True)\n",
    "        \n",
    "        # Remove unwanted characters or tags from beds\n",
    "        beds = beds.split('[')[0]  # Remove citation references\n",
    "        \n",
    "        # store the extracted data\n",
    "        #print(f\"Hospital: {hospital}, City: {city}, Beds: {beds}\")\n",
    "        hospital_lst.append(hospital)\n",
    "        city_lst.append(city)\n",
    "        beds_lst.append(beds)"
   ]
  },
  {
   "cell_type": "markdown",
   "metadata": {},
   "source": [
    "Now that i extracted the data i needed lets create a data frame to represent these"
   ]
  },
  {
   "cell_type": "code",
   "execution_count": 29,
   "metadata": {},
   "outputs": [
    {
     "name": "stdout",
     "output_type": "stream",
     "text": [
      "111\n",
      "111\n",
      "111\n"
     ]
    }
   ],
   "source": [
    "print(len(hospital_lst))\n",
    "print(len(city_lst))\n",
    "print(len(beds_lst))"
   ]
  },
  {
   "cell_type": "code",
   "execution_count": 43,
   "metadata": {},
   "outputs": [
    {
     "name": "stdout",
     "output_type": "stream",
     "text": [
      "[3011 1991 2050 5856 1436 1520 1091 1464 2169 1098  833 1378 1554 1295\n",
      " 1303 1352 1517 1438 1237 1662 1291 1260 1345  665 1396 1202 1559 1150\n",
      "  543  656  443  984  919 1457  754  909 1297  673 1428  752 1087  728\n",
      "  620 1422  569 1057  509  959  761  963  201  236  951 1347  211  573\n",
      "  138  485 1322  708  632 1699  657  334 1005  574 1300  707  697  450\n",
      "  525  358  244  300  510  905  499  605  424  655  636  592 1028  782\n",
      "  562  545  588  619  160 1741  910   24  459   78  240  104  506  367\n",
      "  307  496   63  433 1281  225  362  195]\n"
     ]
    },
    {
     "data": {
      "text/html": [
       "<div>\n",
       "<style scoped>\n",
       "    .dataframe tbody tr th:only-of-type {\n",
       "        vertical-align: middle;\n",
       "    }\n",
       "\n",
       "    .dataframe tbody tr th {\n",
       "        vertical-align: top;\n",
       "    }\n",
       "\n",
       "    .dataframe thead th {\n",
       "        text-align: right;\n",
       "    }\n",
       "</style>\n",
       "<table border=\"1\" class=\"dataframe\">\n",
       "  <thead>\n",
       "    <tr style=\"text-align: right;\">\n",
       "      <th></th>\n",
       "      <th>Hospital Name</th>\n",
       "      <th>City</th>\n",
       "      <th>Number of beds</th>\n",
       "    </tr>\n",
       "  </thead>\n",
       "  <tbody>\n",
       "    <tr>\n",
       "      <th>0</th>\n",
       "      <td>Charité – Universitätsmedizin Berlin</td>\n",
       "      <td>Berlin</td>\n",
       "      <td>3011</td>\n",
       "    </tr>\n",
       "    <tr>\n",
       "      <th>1</th>\n",
       "      <td>University Hospital Heidelberg</td>\n",
       "      <td>Heidelberg</td>\n",
       "      <td>1991</td>\n",
       "    </tr>\n",
       "    <tr>\n",
       "      <th>2</th>\n",
       "      <td>Klinikum der Universität München</td>\n",
       "      <td>Munich</td>\n",
       "      <td>2050</td>\n",
       "    </tr>\n",
       "    <tr>\n",
       "      <th>3</th>\n",
       "      <td>Vivantes Hospital Group</td>\n",
       "      <td>Berlin</td>\n",
       "      <td>5856</td>\n",
       "    </tr>\n",
       "    <tr>\n",
       "      <th>4</th>\n",
       "      <td>University Medical Center Hamburg-Eppendorf</td>\n",
       "      <td>Hamburg</td>\n",
       "      <td>1436</td>\n",
       "    </tr>\n",
       "  </tbody>\n",
       "</table>\n",
       "</div>"
      ],
      "text/plain": [
       "                                 Hospital Name        City  Number of beds\n",
       "0         Charité – Universitätsmedizin Berlin      Berlin            3011\n",
       "1               University Hospital Heidelberg  Heidelberg            1991\n",
       "2             Klinikum der Universität München      Munich            2050\n",
       "3                      Vivantes Hospital Group      Berlin            5856\n",
       "4  University Medical Center Hamburg-Eppendorf     Hamburg            1436"
      ]
     },
     "execution_count": 43,
     "metadata": {},
     "output_type": "execute_result"
    }
   ],
   "source": [
    "import pandas as pd\n",
    "\n",
    "health_df = pd.DataFrame({'Hospital Name': hospital_lst, 'City': city_lst, 'Number of beds': beds_lst})\n",
    "# Remove commas from the 'Number of beds' column and convert to numeric\n",
    "health_df['Number of beds'] = health_df['Number of beds'].str.replace(',', '').astype(int)\n",
    "\n",
    "unique_values = health_df['Number of beds'].unique()\n",
    "print(unique_values)\n",
    "\n",
    "health_df.head()"
   ]
  },
  {
   "cell_type": "markdown",
   "metadata": {},
   "source": [
    "now we can call this our raw dataframe to use these info for visualization and ML model training one thing could be done is to goup data by city aggregate number of beds and also count the number of hospitals"
   ]
  },
  {
   "cell_type": "code",
   "execution_count": 44,
   "metadata": {},
   "outputs": [
    {
     "data": {
      "text/html": [
       "<div>\n",
       "<style scoped>\n",
       "    .dataframe tbody tr th:only-of-type {\n",
       "        vertical-align: middle;\n",
       "    }\n",
       "\n",
       "    .dataframe tbody tr th {\n",
       "        vertical-align: top;\n",
       "    }\n",
       "\n",
       "    .dataframe thead th {\n",
       "        text-align: right;\n",
       "    }\n",
       "</style>\n",
       "<table border=\"1\" class=\"dataframe\">\n",
       "  <thead>\n",
       "    <tr style=\"text-align: right;\">\n",
       "      <th></th>\n",
       "      <th>City</th>\n",
       "      <th>Number of beds</th>\n",
       "    </tr>\n",
       "  </thead>\n",
       "  <tbody>\n",
       "    <tr>\n",
       "      <th>0</th>\n",
       "      <td>Aachen</td>\n",
       "      <td>1517</td>\n",
       "    </tr>\n",
       "    <tr>\n",
       "      <th>1</th>\n",
       "      <td>Amberg</td>\n",
       "      <td>588</td>\n",
       "    </tr>\n",
       "    <tr>\n",
       "      <th>2</th>\n",
       "      <td>Augsburg</td>\n",
       "      <td>3440</td>\n",
       "    </tr>\n",
       "    <tr>\n",
       "      <th>3</th>\n",
       "      <td>Bad Berka</td>\n",
       "      <td>728</td>\n",
       "    </tr>\n",
       "    <tr>\n",
       "      <th>4</th>\n",
       "      <td>Bad Oeynhausen</td>\n",
       "      <td>344</td>\n",
       "    </tr>\n",
       "  </tbody>\n",
       "</table>\n",
       "</div>"
      ],
      "text/plain": [
       "             City  Number of beds\n",
       "0          Aachen            1517\n",
       "1          Amberg             588\n",
       "2        Augsburg            3440\n",
       "3       Bad Berka             728\n",
       "4  Bad Oeynhausen             344"
      ]
     },
     "execution_count": 44,
     "metadata": {},
     "output_type": "execute_result"
    }
   ],
   "source": [
    "agg_df = health_df.copy()\n",
    "#numBeds_hsptl_df = agg_df.groupby(by='City').agg({agg_df.columns[2]:'sum'})\n",
    "numBeds_hsptl_df = agg_df.groupby('City')['Number of beds'].sum().reset_index()\n",
    "numBeds_hsptl_df.head()"
   ]
  },
  {
   "cell_type": "code",
   "execution_count": 45,
   "metadata": {},
   "outputs": [
    {
     "data": {
      "text/html": [
       "<div>\n",
       "<style scoped>\n",
       "    .dataframe tbody tr th:only-of-type {\n",
       "        vertical-align: middle;\n",
       "    }\n",
       "\n",
       "    .dataframe tbody tr th {\n",
       "        vertical-align: top;\n",
       "    }\n",
       "\n",
       "    .dataframe thead th {\n",
       "        text-align: right;\n",
       "    }\n",
       "</style>\n",
       "<table border=\"1\" class=\"dataframe\">\n",
       "  <thead>\n",
       "    <tr style=\"text-align: right;\">\n",
       "      <th></th>\n",
       "      <th>City</th>\n",
       "      <th>count</th>\n",
       "    </tr>\n",
       "  </thead>\n",
       "  <tbody>\n",
       "    <tr>\n",
       "      <th>0</th>\n",
       "      <td>Berlin</td>\n",
       "      <td>9</td>\n",
       "    </tr>\n",
       "    <tr>\n",
       "      <th>1</th>\n",
       "      <td>Hamburg</td>\n",
       "      <td>9</td>\n",
       "    </tr>\n",
       "    <tr>\n",
       "      <th>2</th>\n",
       "      <td>Kassel</td>\n",
       "      <td>5</td>\n",
       "    </tr>\n",
       "    <tr>\n",
       "      <th>3</th>\n",
       "      <td>Munich</td>\n",
       "      <td>5</td>\n",
       "    </tr>\n",
       "    <tr>\n",
       "      <th>4</th>\n",
       "      <td>Cologne</td>\n",
       "      <td>4</td>\n",
       "    </tr>\n",
       "  </tbody>\n",
       "</table>\n",
       "</div>"
      ],
      "text/plain": [
       "      City  count\n",
       "0   Berlin      9\n",
       "1  Hamburg      9\n",
       "2   Kassel      5\n",
       "3   Munich      5\n",
       "4  Cologne      4"
      ]
     },
     "execution_count": 45,
     "metadata": {},
     "output_type": "execute_result"
    }
   ],
   "source": [
    "numHsptl = agg_df.City.value_counts()\n",
    "numHsptl_df = pd.DataFrame(numHsptl).reset_index()\n",
    "numHsptl_df.head()"
   ]
  },
  {
   "cell_type": "code",
   "execution_count": 46,
   "metadata": {},
   "outputs": [
    {
     "data": {
      "text/html": [
       "<div>\n",
       "<style scoped>\n",
       "    .dataframe tbody tr th:only-of-type {\n",
       "        vertical-align: middle;\n",
       "    }\n",
       "\n",
       "    .dataframe tbody tr th {\n",
       "        vertical-align: top;\n",
       "    }\n",
       "\n",
       "    .dataframe thead th {\n",
       "        text-align: right;\n",
       "    }\n",
       "</style>\n",
       "<table border=\"1\" class=\"dataframe\">\n",
       "  <thead>\n",
       "    <tr style=\"text-align: right;\">\n",
       "      <th></th>\n",
       "      <th>City</th>\n",
       "      <th>Number of beds</th>\n",
       "      <th>Number of Hospitals</th>\n",
       "    </tr>\n",
       "  </thead>\n",
       "  <tbody>\n",
       "    <tr>\n",
       "      <th>0</th>\n",
       "      <td>Aachen</td>\n",
       "      <td>1517</td>\n",
       "      <td>1</td>\n",
       "    </tr>\n",
       "    <tr>\n",
       "      <th>1</th>\n",
       "      <td>Amberg</td>\n",
       "      <td>588</td>\n",
       "      <td>1</td>\n",
       "    </tr>\n",
       "    <tr>\n",
       "      <th>2</th>\n",
       "      <td>Augsburg</td>\n",
       "      <td>3440</td>\n",
       "      <td>2</td>\n",
       "    </tr>\n",
       "    <tr>\n",
       "      <th>3</th>\n",
       "      <td>Bad Berka</td>\n",
       "      <td>728</td>\n",
       "      <td>1</td>\n",
       "    </tr>\n",
       "    <tr>\n",
       "      <th>4</th>\n",
       "      <td>Bad Oeynhausen</td>\n",
       "      <td>344</td>\n",
       "      <td>2</td>\n",
       "    </tr>\n",
       "  </tbody>\n",
       "</table>\n",
       "</div>"
      ],
      "text/plain": [
       "             City  Number of beds  Number of Hospitals\n",
       "0          Aachen            1517                    1\n",
       "1          Amberg             588                    1\n",
       "2        Augsburg            3440                    2\n",
       "3       Bad Berka             728                    1\n",
       "4  Bad Oeynhausen             344                    2"
      ]
     },
     "execution_count": 46,
     "metadata": {},
     "output_type": "execute_result"
    }
   ],
   "source": [
    "merged_data = pd.merge(numBeds_hsptl_df, numHsptl_df, on='City')\n",
    "merged_data.rename(columns={'count':'Number of Hospitals'}, inplace=True)\n",
    "merged_data.head()"
   ]
  },
  {
   "cell_type": "markdown",
   "metadata": {},
   "source": [
    "Now i can conver this data frame to csv so i could use the data in my UI file"
   ]
  },
  {
   "cell_type": "code",
   "execution_count": 47,
   "metadata": {},
   "outputs": [],
   "source": [
    "merged_data.to_csv(\"numberofHospitals.csv\", index=False)"
   ]
  },
  {
   "cell_type": "markdown",
   "metadata": {},
   "source": [
    "Pharmecies are another set of data to look at here source: https://www.govdata.de/web/guest/suchen/-/details/kreis-viersen-poi-osm-nrw-apotheken-tankstellen77d2f\n"
   ]
  },
  {
   "cell_type": "code",
   "execution_count": 35,
   "metadata": {},
   "outputs": [
    {
     "ename": "ModuleNotFoundError",
     "evalue": "No module named 'googletrans'",
     "output_type": "error",
     "traceback": [
      "\u001b[0;31m---------------------------------------------------------------------------\u001b[0m",
      "\u001b[0;31mModuleNotFoundError\u001b[0m                       Traceback (most recent call last)",
      "Cell \u001b[0;32mIn[35], line 1\u001b[0m\n\u001b[0;32m----> 1\u001b[0m \u001b[38;5;28;01mfrom\u001b[39;00m \u001b[38;5;21;01mgoogletrans\u001b[39;00m \u001b[38;5;28;01mimport\u001b[39;00m Translator\n\u001b[1;32m      3\u001b[0m pharmacy \u001b[38;5;241m=\u001b[39m pd\u001b[38;5;241m.\u001b[39mread_csv(\u001b[38;5;124m\"\u001b[39m\u001b[38;5;124mapotheken_nrw.csv\u001b[39m\u001b[38;5;124m\"\u001b[39m)\n\u001b[1;32m      4\u001b[0m pharmacy \u001b[38;5;241m=\u001b[39m pharmacy[[\u001b[38;5;124m'\u001b[39m\u001b[38;5;124mname\u001b[39m\u001b[38;5;124m'\u001b[39m,\u001b[38;5;124m'\u001b[39m\u001b[38;5;124madresse\u001b[39m\u001b[38;5;124m'\u001b[39m]]\n",
      "\u001b[0;31mModuleNotFoundError\u001b[0m: No module named 'googletrans'"
     ]
    }
   ],
   "source": [
    "from googletrans import Translator\n",
    "\n",
    "pharmacy = pd.read_csv(\"apotheken_nrw.csv\")\n",
    "pharmacy = pharmacy[['name','adresse']]\n",
    "pharmacy.adresse = pharmacy.adresse.str.split(',').str[-1]\n",
    "pharmacy_df = pd.DataFrame(pharmacy.adresse.value_counts()).reset_index()\n",
    "pharmacy_df.rename(columns={'adresse':'city', 'count':'number of pharmecies'}, inplace=True)\n",
    "pharmacy_df.head()\n",
    "\n"
   ]
  },
  {
   "cell_type": "code",
   "execution_count": null,
   "metadata": {},
   "outputs": [],
   "source": [
    "from fuzzywuzzy import process\n",
    "german_city = pd.read_csv(\"../German cities.csv\")\n",
    "#german_city.head()\n",
    "real_city_lst = german_city.city.to_list()\n",
    "#real_city_lst\n",
    "def find_match(city, choices):\n",
    "    return process.extractOne(city, choices)[0]\n",
    "test_pd = pharmacy_df.copy()\n",
    "test_pd['city']= test_pd.city.apply(lambda x: find_match(x, real_city_lst))\n",
    "\n",
    "test_pd.head()"
   ]
  },
  {
   "cell_type": "code",
   "execution_count": null,
   "metadata": {},
   "outputs": [],
   "source": [
    "test_pd.to_csv(\"numberOfPharmecies.csv\", index=False)"
   ]
  }
 ],
 "metadata": {
  "kernelspec": {
   "display_name": "Python 3",
   "language": "python",
   "name": "python3"
  },
  "language_info": {
   "codemirror_mode": {
    "name": "ipython",
    "version": 3
   },
   "file_extension": ".py",
   "mimetype": "text/x-python",
   "name": "python",
   "nbconvert_exporter": "python",
   "pygments_lexer": "ipython3",
   "version": "3.11.5"
  }
 },
 "nbformat": 4,
 "nbformat_minor": 2
}
