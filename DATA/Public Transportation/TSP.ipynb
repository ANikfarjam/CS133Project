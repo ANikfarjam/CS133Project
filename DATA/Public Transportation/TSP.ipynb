{
 "cells": [
  {
   "cell_type": "code",
   "execution_count": 1,
   "metadata": {},
   "outputs": [],
   "source": [
    "german_cities_by_state = {\n",
    "    'Berlin': ['Berlin'],\n",
    "    'Baden-Württemberg': ['Stuttgart', 'Mannheim', 'Karlsruhe', 'Freiburg im Breisgau', 'Heidelberg', 'Ulm', 'Pforzheim', 'Reutlingen', 'Esslingen', 'Ludwigsburg', 'Ostfildern', 'Kornwestheim', 'Weingarten', 'Eppelheim', 'Asperg'],\n",
    "    'Bavaria': ['Munich', 'Nuremberg', 'Augsburg', 'Regensburg', 'Ingolstadt', 'Fürth', 'Würzburg', 'Erlangen', 'Rosenheim', 'Germering', 'Ottobrunn', 'Puchheim', 'Gröbenzell', 'Haar', 'Neubiberg'],\n",
    "    'Hamburg': ['Hamburg'],\n",
    "    'North Rhine-Westphalia': ['Cologne', 'Düsseldorf', 'Dortmund', 'Essen', 'Duisburg', 'Bochum', 'Wuppertal', 'Bielefeld', 'Bonn', 'Münster', 'Mönchengladbach', 'Gelsenkirchen', 'Aachen', 'Krefeld', 'Oberhausen', 'Hagen', 'Hamm', 'Mülheim', 'Leverkusen', 'Solingen', 'Herne', 'Neuss', 'Paderborn', 'Bottrop', 'Moers', 'Siegen', 'Gladbeck', 'Herten', 'Hilden', 'Siegburg', 'Eilendorf'],\n",
    "    'Hesse': ['Frankfurt', 'Wiesbaden', 'Darmstadt', 'Kassel', 'Hattersheim', 'Obertshausen', 'Bad Soden am Taunus', 'Eschborn'],\n",
    "    'Saxony': ['Leipzig', 'Dresden', 'Chemnitz', 'Halle'],\n",
    "    'Lower Saxony': ['Hannover', 'Braunschweig', 'Oldenburg', 'Osnabrück', 'Wolfsburg', 'Göttingen', 'Salzgitter', 'Hildesheim'],\n",
    "    'Rhineland-Palatinate': ['Mainz', 'Ludwigshafen', 'Koblenz', 'Trier', 'Kaiserslautern'],\n",
    "    'Schleswig-Holstein': ['Kiel', 'Lübeck', 'Elmshorn', 'Pinneberg', 'Wentorf bei Hamburg', 'Schenefeld', 'Glinde'],\n",
    "    'Bremen': ['Bremen'],\n",
    "    'Saxony-Anhalt': ['Magdeburg', 'Halle', 'Halle-Neustadt'],\n",
    "    'Thuringia': ['Erfurt', 'Jena'],\n",
    "    'Mecklenburg-Vorpommern': ['Rostock', 'Schwerin'],\n",
    "    'Saarland': ['Saarbrücken'],\n",
    "    'Brandenburg': ['Potsdam'],\n",
    "    'Rhineland-Palatinate': ['Kaiserslautern', 'Mainz', 'Ludwigshafen', 'Koblenz', 'Trier'],\n",
    "}"
   ]
  },
  {
   "cell_type": "code",
   "execution_count": 6,
   "metadata": {},
   "outputs": [
    {
     "data": {
      "text/html": [
       "<div>\n",
       "<style scoped>\n",
       "    .dataframe tbody tr th:only-of-type {\n",
       "        vertical-align: middle;\n",
       "    }\n",
       "\n",
       "    .dataframe tbody tr th {\n",
       "        vertical-align: top;\n",
       "    }\n",
       "\n",
       "    .dataframe thead th {\n",
       "        text-align: right;\n",
       "    }\n",
       "</style>\n",
       "<table border=\"1\" class=\"dataframe\">\n",
       "  <thead>\n",
       "    <tr style=\"text-align: right;\">\n",
       "      <th></th>\n",
       "      <th>Unnamed: 0</th>\n",
       "      <th>states</th>\n",
       "      <th>number_of_passengers_on_urban_public_transit_2022</th>\n",
       "      <th>easy_access_to_public_transportation_2022</th>\n",
       "    </tr>\n",
       "  </thead>\n",
       "  <tbody>\n",
       "    <tr>\n",
       "      <th>0</th>\n",
       "      <td>0</td>\n",
       "      <td>Baden-Württemberg</td>\n",
       "      <td>1011.8</td>\n",
       "      <td>92.3</td>\n",
       "    </tr>\n",
       "    <tr>\n",
       "      <th>1</th>\n",
       "      <td>1</td>\n",
       "      <td>Bavaria</td>\n",
       "      <td>1144.6</td>\n",
       "      <td>74.7</td>\n",
       "    </tr>\n",
       "    <tr>\n",
       "      <th>2</th>\n",
       "      <td>2</td>\n",
       "      <td>Berlin</td>\n",
       "      <td>1378.2</td>\n",
       "      <td>99.4</td>\n",
       "    </tr>\n",
       "    <tr>\n",
       "      <th>3</th>\n",
       "      <td>3</td>\n",
       "      <td>Brandenburg</td>\n",
       "      <td>129.9</td>\n",
       "      <td>77.9</td>\n",
       "    </tr>\n",
       "    <tr>\n",
       "      <th>4</th>\n",
       "      <td>4</td>\n",
       "      <td>Bremen</td>\n",
       "      <td>89.3</td>\n",
       "      <td>97.9</td>\n",
       "    </tr>\n",
       "  </tbody>\n",
       "</table>\n",
       "</div>"
      ],
      "text/plain": [
       "   Unnamed: 0             states  \\\n",
       "0           0  Baden-Württemberg   \n",
       "1           1            Bavaria   \n",
       "2           2             Berlin   \n",
       "3           3        Brandenburg   \n",
       "4           4             Bremen   \n",
       "\n",
       "   number_of_passengers_on_urban_public_transit_2022  \\\n",
       "0                                             1011.8   \n",
       "1                                             1144.6   \n",
       "2                                             1378.2   \n",
       "3                                              129.9   \n",
       "4                                               89.3   \n",
       "\n",
       "   easy_access_to_public_transportation_2022  \n",
       "0                                       92.3  \n",
       "1                                       74.7  \n",
       "2                                       99.4  \n",
       "3                                       77.9  \n",
       "4                                       97.9  "
      ]
     },
     "execution_count": 6,
     "metadata": {},
     "output_type": "execute_result"
    }
   ],
   "source": [
    "import pandas as pd\n",
    "data = pd.read_csv(\"transportation.csv\")\n",
    "data.head()"
   ]
  },
  {
   "cell_type": "code",
   "execution_count": 9,
   "metadata": {},
   "outputs": [
    {
     "name": "stdout",
     "output_type": "stream",
     "text": [
      "mean is: 624.2375 , STD: 39.34717309539477\n"
     ]
    }
   ],
   "source": [
    "mean = data['number_of_passengers_on_urban_public_transit_2022'].mean()\n",
    "standrad_diviation = data['number_of_passengers_on_urban_public_transit_2022'].std()/16\n",
    "print(\"mean is:\", mean, \", STD:\", standrad_diviation)"
   ]
  },
  {
   "cell_type": "code",
   "execution_count": 10,
   "metadata": {},
   "outputs": [
    {
     "data": {
      "text/plain": [
       "['Baden-Württemberg',\n",
       " 'Bavaria',\n",
       " 'Berlin',\n",
       " 'Brandenburg',\n",
       " 'Bremen',\n",
       " 'Hamburg',\n",
       " 'Hesse',\n",
       " 'Lower Saxony',\n",
       " 'Mecklenburg-Vorpomern',\n",
       " 'North Rhine-Westphalia',\n",
       " 'Rhineland-Palatinate',\n",
       " 'Saarland',\n",
       " 'Saxony',\n",
       " 'Saxony-Anhalt',\n",
       " 'Schleswig-Holstein',\n",
       " 'Thuringia']"
      ]
     },
     "execution_count": 10,
     "metadata": {},
     "output_type": "execute_result"
    }
   ],
   "source": [
    "import random\n",
    "cities = []\n",
    "passengers = []\n",
    "access = []\n",
    "\n",
    "\n"
   ]
  }
 ],
 "metadata": {
  "kernelspec": {
   "display_name": "Python 3",
   "language": "python",
   "name": "python3"
  },
  "language_info": {
   "codemirror_mode": {
    "name": "ipython",
    "version": 3
   },
   "file_extension": ".py",
   "mimetype": "text/x-python",
   "name": "python",
   "nbconvert_exporter": "python",
   "pygments_lexer": "ipython3",
   "version": "3.10.4"
  }
 },
 "nbformat": 4,
 "nbformat_minor": 2
}
