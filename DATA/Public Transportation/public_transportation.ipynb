{
 "cells": [
  {
   "cell_type": "code",
   "execution_count": 3,
   "metadata": {},
   "outputs": [],
   "source": [
    "import pandas as pd\n",
    "import seaborn as sns\n",
    "from matplotlib import pyplot as plt\n",
    "# Author: Shangchen Hsieh\n",
    "\n",
    "states = [\n",
    "    \"Baden-Württemberg\",\n",
    "    \"Bavaria\",\n",
    "    \"Berlin\",\n",
    "    \"Brandenburg\",\n",
    "    \"Bremen\",\n",
    "    \"Hamburg\",\n",
    "    \"Hesse\",\n",
    "    \"Lower Saxony\",\n",
    "    \"Mecklenburg-Vorpomern\",\n",
    "    \"North Rhine-Westphalia\",\n",
    "    \"Rhineland-Palatinate\",\n",
    "    \"Saarland\",\n",
    "    \"Saxony\",\n",
    "    \"Saxony-Anhalt\",\n",
    "    \"Schleswig-Holstein\",\n",
    "    \"Thuringia\"\n",
    "]\n",
    "\n",
    "num_of_passengers_on_urban_public_transit_2022 = [\n",
    "    1011.8, 1144.6, 1378.2, 129.9, 89.3, 685.3, 1749.4, 538.9, 129.3, 1939.8, 252.8, 62.5, 430.7, 177.1, 110.9, 157.3\n",
    "]\n",
    "easy_access_to_pt_2022 = [\n",
    "    92.3, 74.7, 99.4, 77.9, 97.9, 98.7, 90.6, 75.9, 66.1, 92.6, 83.1, 94.1, 87.5, 78.5, 82.8, 78.4\n",
    "]\n",
    "\n",
    "transportation = pd.DataFrame(\n",
    "    {\"states\":states,\n",
    "     \"number_of_passengers_on_urban_public_transit_2022\": num_of_passengers_on_urban_public_transit_2022,\n",
    "     \"easy_access_to_public_transportation_2022\": easy_access_to_pt_2022}\n",
    ")\n",
    "\n",
    "transportation\n",
    "transportation.to_csv('transportation.csv')"
   ]
  }
 ],
 "metadata": {
  "kernelspec": {
   "display_name": "Python 3",
   "language": "python",
   "name": "python3"
  },
  "language_info": {
   "codemirror_mode": {
    "name": "ipython",
    "version": 3
   },
   "file_extension": ".py",
   "mimetype": "text/x-python",
   "name": "python",
   "nbconvert_exporter": "python",
   "pygments_lexer": "ipython3",
   "version": "3.10.12"
  }
 },
 "nbformat": 4,
 "nbformat_minor": 2
}
