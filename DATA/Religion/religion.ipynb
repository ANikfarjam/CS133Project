{
 "cells": [
  {
   "cell_type": "markdown",
   "metadata": {},
   "source": [
    "Religion Notebook"
   ]
  },
  {
   "cell_type": "code",
   "execution_count": null,
   "metadata": {
    "metadata": {}
   },
   "outputs": [],
   "source": [
    "from bs4 import BeautifulSoup\n",
    "import requests\n",
    "import pandas as pd\n",
    "\n",
    "url = \"https://en.wikipedia.org/wiki/Religion_in_Germany#cite_note-2011zensus-4\"\n",
    "response = requests.get(url)\n",
    "\n",
    "if response.status_code == 200:\n",
    "    health_soup = BeautifulSoup(response.content, 'html.parser')\n",
    "else:\n",
    "    print('Couldn\\'t reach', url)"
   ]
  },
  {
   "cell_type": "code",
   "execution_count": null,
   "metadata": {
    "metadata": {}
   },
   "outputs": [],
   "source": [
    "with open(\"religion.html\", 'w') as file:\n",
    "    file.write(health_soup.prettify())"
   ]
  },
  {
   "cell_type": "code",
   "execution_count": null,
   "metadata": {
    "metadata": {}
   },
   "outputs": [],
   "source": [
    "religion_table = health_soup.find('table', class_='sortable wikitable')\n",
    "\n",
    "rows = [row for row in religion_table.find_all('tr') if not row.find('flagicon')]\n",
    "\n",
    "\n",
    "state_list = []\n",
    "protestant_list = []\n",
    "catholic_list = []\n",
    "non_rel_list = []\n",
    "muslim_list = []\n",
    "other_list = []\n",
    "\n",
    "print(rows)\n",
    "#print(religion_table[:3])\n",
    "for row in rows:\n",
    "    # Find all table data elements in the row\n",
    "    cells = row.find_all('td')\n",
    "\n",
    "    # Extract data if there are enough cells in the row\n",
    "    if len(cells) == 6:\n",
    "        # Extracting data from cells\n",
    "        state = cells[0].find('a').get_text(strip=True)  # Extract state name from the anchor tag inside the first cell\n",
    "        protestant = cells[1].get_text(strip=True)\n",
    "        catholic = cells[2].get_text(strip=True)\n",
    "        non_religious = cells[3].get_text(strip=True)\n",
    "        muslim = cells[4].get_text(strip=True)\n",
    "        other = cells[5].get_text(strip=True)\n",
    "\n",
    "        # Append data to respective lists\n",
    "        state_list.append(state)\n",
    "        protestant_list.append(protestant)\n",
    "        catholic_list.append(catholic)\n",
    "        non_rel_list.append(non_religious)\n",
    "        muslim_list.append(muslim)\n",
    "        other_list.append(other)"
   ]
  },
  {
   "cell_type": "code",
   "execution_count": null,
   "metadata": {
    "metadata": {}
   },
   "outputs": [],
   "source": [
    "religion_table = health_soup.find('table', class_='sortable wikitable')\n",
    "\n",
    "\n",
    "state_list = []\n",
    "prodestant_list = []\n",
    "catholic_list = []\n",
    "non_rel_list = []\n",
    "muslim_list = []\n",
    "other_list = []\n",
    "\n",
    "rows = religion_table.find_all('tr')\n",
    "print(rows)\n",
    "#print(religion_table[:3])\n",
    "for row in rows:\n",
    "    # Find all table data elements in the row\n",
    "    cells = row.find_all('td') \n",
    "\n",
    "    print(cells)\n",
    "    # Extract hospital name, city, number of beds\n",
    "    if len(cells) == 6:  # Ensure the row has enough data cells\n",
    "        state = cells[0].get_text(strip=True)\n",
    "        prodestant = cells[1].get_text(strip=True)\n",
    "        catholic = cells[2].get_text(strip=True)\n",
    "        non_rel = cells[3].get_text(strip=True)\n",
    "        muslim = cells[4].get_text(strip=True)\n",
    "        other = cells[5].get_text(strip=True)\n",
    "        \n",
    "        # Remove unwanted characters or tags from beds\n",
    "        # beds = beds.split('[')[0]  # Remove citation references\n",
    "        \n",
    "        # store the extracted data\n",
    "        #print(f\"Hospital: {hospital}, City: {city}, Beds: {beds}\")\n",
    "        state_list.append(state)\n",
    "        prodestant_list.append(prodestant)\n",
    "        catholic_list.append(catholic)\n",
    "        non_rel_list.append(non_rel)\n",
    "        muslim_list.append(muslim)\n",
    "        other_list.append(other)\n",
    "        "
   ]
  },
  {
   "cell_type": "code",
   "execution_count": null,
   "metadata": {
    "metadata": {}
   },
   "outputs": [],
   "source": [
    "print(len(state_list))\n",
    "print(len(prodestant_list))\n",
    "print(len(catholic_list))\n",
    "print(len(non_rel_list))\n",
    "print(len(muslim_list))\n",
    "print(len(other_list))"
   ]
  },
  {
   "cell_type": "code",
   "execution_count": null,
   "metadata": {
    "metadata": {}
   },
   "outputs": [],
   "source": [
    "state_list"
   ]
  },
  {
   "cell_type": "code",
   "execution_count": null,
   "metadata": {
    "metadata": {}
   },
   "outputs": [],
   "source": [
    "rel_df = pd.DataFrame({'State': state_list,\n",
    "               'Protestant': prodestant_list,\n",
    "               'Catholic': catholic_list,\n",
    "               'Nonrel': non_rel_list,\n",
    "                'Muslim': muslim_list,\n",
    "                'Other': other_list})"
   ]
  },
  {
   "cell_type": "code",
   "execution_count": null,
   "metadata": {
    "metadata": {}
   },
   "outputs": [],
   "source": [
    "rel_df['Protestant'] = rel_df['Protestant'].str.replace('%', '').astype(float)\n",
    "rel_df['Catholic'] = rel_df['Catholic'].str.replace('%', '').astype(float)\n",
    "rel_df['Nonrel'] = rel_df['Nonrel'].str.replace('%', '').astype(float)\n",
    "rel_df['Muslim'] = rel_df['Muslim'].str.replace('%', '').astype(float)\n",
    "rel_df['Other'] = rel_df['Other'].str.replace('%', '').astype(float)\n"
   ]
  },
  {
   "cell_type": "code",
   "execution_count": null,
   "metadata": {
    "metadata": {}
   },
   "outputs": [],
   "source": [
    "rel_df.drop([4, 5, 17], inplace = True, axis = 0)"
   ]
  },
  {
   "cell_type": "code",
   "execution_count": null,
   "metadata": {
    "metadata": {}
   },
   "outputs": [],
   "source": [
    "# Alternative state names dictionary\n",
    "alternative_names = {\n",
    "    'Lower Saxony': 'Niedersachsen',\n",
    "    'Bavaria': 'Bayern',\n",
    "    'Hesse': 'Hessen',\n",
    "    'North Rhine-Westphalia': 'Nordrhein-Westfalen',\n",
    "    'Rhineland-Palatinate': 'Rheinland-Pfalz',\n",
    "    'Thuringia': 'Thüringen'\n",
    "}\n",
    "\n",
    "# List of states in order from rel_df\n",
    "states_rel_df = [\n",
    "    'Baden-Württemberg',\n",
    "    'Bavaria',\n",
    "    'Brandenburg',\n",
    "    'Bremen',\n",
    "    'Hamburg',\n",
    "    'Hesse',\n",
    "    'Lower Saxony',\n",
    "    'Mecklenburg-Vorpommern',\n",
    "    'North Rhine-Westphalia',\n",
    "    'Rhineland-Palatinate',\n",
    "    'Saarland',\n",
    "    'Saxony',\n",
    "    'Saxony-Anhalt',\n",
    "    'Schleswig-Holstein',\n",
    "    'Thuringia'\n",
    "]\n",
    "\n",
    "# Add alternative names column to rel_df\n",
    "rel_df['Alternative Name'] = rel_df['State'].map(alternative_names)\n",
    "\n",
    "# Use the 'Alternative Name' column for featureidkey if it exists, otherwise use 'State'\n",
    "featureidkey = 'Alternative Name' if 'Alternative Name' in rel_df.columns else 'State'\n",
    "\n",
    "# Fill missing values in \"Alternative Name\" with the corresponding values from \"State Name\"\n",
    "rel_df['Alternative Name'] = rel_df['Alternative Name'].fillna(rel_df['State'])\n"
   ]
  },
  {
   "cell_type": "code",
   "execution_count": null,
   "metadata": {
    "metadata": {}
   },
   "outputs": [],
   "source": [
    "rel_df.to_csv('religion.csv', index=False)"
   ]
  },
  {
   "cell_type": "code",
   "execution_count": null,
   "metadata": {
    "metadata": {}
   },
   "outputs": [],
   "source": [
    "import plotly.express as px\n",
    "import json\n",
    "import numpy as np"
   ]
  },
  {
   "cell_type": "code",
   "execution_count": null,
   "metadata": {
    "metadata": {}
   },
   "outputs": [],
   "source": [
    "import dash\n",
    "from dash import dcc, html, Input, Output\n",
    "import pandas as pd\n",
    "import plotly.express as px\n",
    "import json\n",
    "\n",
    "# Read religion data\n",
    "religion_data = pd.read_csv(\"religion.csv\")\n",
    "\n",
    "# Read GeoJSON data\n",
    "with open(\"germany-states.geojson\", \"r\", encoding=\"utf-8\") as f:\n",
    "    geojson_data = json.load(f)\n",
    "\n",
    "# Function to find matching state name\n",
    "def find_state_name(state_name):\n",
    "    for feature in geojson_data[\"features\"]:\n",
    "        if feature[\"properties\"][\"NAME_1\"] == state_name:\n",
    "            return feature[\"properties\"][\"NAME_1\"]\n",
    "        elif \"VARNAME_1\" in feature[\"properties\"] and feature[\"properties\"][\"VARNAME_1\"] == state_name:\n",
    "            return feature[\"properties\"][\"NAME_1\"]\n",
    "    return None\n",
    "\n",
    "# Merge data\n",
    "religion_data[\"State_Name\"] = religion_data[\"State\"].apply(find_state_name)\n",
    "merged_data = pd.merge(religion_data, pd.DataFrame(geojson_data[\"features\"])[\"properties\"].apply(pd.Series), \n",
    "                       left_on=\"State_Name\", right_on=\"NAME_1\", how=\"left\")\n",
    "\n",
    "# Initialize the Dash app\n",
    "app = dash.Dash(__name__)\n",
    "\n",
    "# Define app layout\n",
    "app.layout = html.Div([\n",
    "    html.H1(\"Religion Distribution in Germany\"),\n",
    "    dcc.RadioItems(\n",
    "        id='religion-selector',\n",
    "        options=[\n",
    "            {'label': 'Protestant', 'value': 'Protestant'},\n",
    "            {'label': 'Catholic', 'value': 'Catholic'},\n",
    "            {'label': 'Non-religious', 'value': 'Nonrel'},\n",
    "            {'label': 'Muslim', 'value': 'Muslim'},\n",
    "            {'label': 'Other Religion', 'value': 'Other'}\n",
    "        ],\n",
    "        value='Protestant',\n",
    "        labelStyle={'display': 'block'}\n",
    "    ),\n",
    "    dcc.Graph(id='choropleth-map')\n",
    "])\n",
    "\n",
    "# Define callback to update choropleth map based on selected religion\n",
    "@app.callback(\n",
    "    Output('choropleth-map', 'figure'),\n",
    "    [Input('religion-selector', 'value')]\n",
    ")\n",
    "def update_map(selected_religion):\n",
    "    fig = px.choropleth(merged_data, geojson=geojson_data, locations='NAME_1', color=selected_religion,\n",
    "                        color_continuous_scale=\"Viridis\",\n",
    "                        range_color=(0, merged_data[selected_religion].max()),\n",
    "                        featureidkey=\"properties.NAME_1\",\n",
    "                        labels={selected_religion: f\"{selected_religion} Population in Germany\"},\n",
    "                        title=f\"{selected_religion} Population in Germany\")\n",
    "    fig.update_geos(showcountries=False, showcoastlines=False, showland=True, fitbounds=\"locations\")\n",
    "    return fig\n",
    "\n",
    "# Run the app\n",
    "if __name__ == '__main__':\n",
    "    app.run_server(debug=True)\n"
   ]
  },
  {
   "cell_type": "code",
   "execution_count": null,
   "metadata": {},
   "outputs": [],
   "source": []
  }
 ],
 "metadata": {
  "kernelspec": {
   "display_name": "base",
   "language": "python",
   "name": "python3"
  },
  "language_info": {
   "codemirror_mode": {
    "name": "ipython",
    "version": 3
   },
   "file_extension": ".py",
   "mimetype": "text/x-python",
   "name": "python",
   "nbconvert_exporter": "python",
   "pygments_lexer": "ipython3",
   "version": "3.11.5"
  }
 },
 "nbformat": 4,
 "nbformat_minor": 2
}
